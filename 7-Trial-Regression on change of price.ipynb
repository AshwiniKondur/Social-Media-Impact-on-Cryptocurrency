{
 "cells": [
  {
   "cell_type": "code",
   "execution_count": 1,
   "metadata": {},
   "outputs": [],
   "source": [
    "import numpy as np\n",
    "import pandas as pd\n",
    "import matplotlib.pyplot as plt\n",
    "from sklearn import preprocessing, svm\n",
    "from sklearn.model_selection import train_test_split\n",
    "from sklearn.linear_model import LinearRegression\n",
    "from matplotlib.ticker import MaxNLocator\n",
    "from sklearn.model_selection import train_test_split"
   ]
  },
  {
   "cell_type": "code",
   "execution_count": 2,
   "metadata": {},
   "outputs": [],
   "source": [
    "coin = \"dogecoin\""
   ]
  },
  {
   "cell_type": "code",
   "execution_count": 3,
   "metadata": {},
   "outputs": [],
   "source": [
    "df = pd.read_csv(f'{coin}_dataset.csv')"
   ]
  },
  {
   "cell_type": "code",
   "execution_count": 4,
   "metadata": {},
   "outputs": [
    {
     "data": {
      "text/plain": [
       "Index(['date', 'positive', 'negative', 'neutral', 'sentiment', 'price'], dtype='object')"
      ]
     },
     "execution_count": 4,
     "metadata": {},
     "output_type": "execute_result"
    }
   ],
   "source": [
    "df.columns"
   ]
  },
  {
   "cell_type": "code",
   "execution_count": 5,
   "metadata": {},
   "outputs": [
    {
     "data": {
      "text/plain": [
       "546"
      ]
     },
     "execution_count": 5,
     "metadata": {},
     "output_type": "execute_result"
    }
   ],
   "source": [
    "len(df)"
   ]
  },
  {
   "cell_type": "markdown",
   "metadata": {},
   "source": [
    "Experiment 1: Linear Regression from sentiment as 3-element tuple and change in price"
   ]
  },
  {
   "cell_type": "code",
   "execution_count": 6,
   "metadata": {},
   "outputs": [],
   "source": [
    "days = 7"
   ]
  },
  {
   "cell_type": "code",
   "execution_count": 7,
   "metadata": {},
   "outputs": [],
   "source": [
    "prices = df[\"price\"]\n",
    "x = []\n",
    "y = []"
   ]
  },
  {
   "cell_type": "code",
   "execution_count": 8,
   "metadata": {},
   "outputs": [],
   "source": [
    "pad = [prices[0]]*days\n",
    "pad.extend(prices)"
   ]
  },
  {
   "cell_type": "code",
   "execution_count": 9,
   "metadata": {},
   "outputs": [],
   "source": [
    "\n",
    "for i in range(0,len(df)-days):\n",
    "    prices = pad[i:i+days]\n",
    "    prices.append(df[\"sentiment\"].iloc[i])\n",
    "    x.append(prices)\n",
    "    predict_prices = pad[i+days: i + (2*days)]\n",
    "    y.append(predict_prices)"
   ]
  },
  {
   "cell_type": "code",
   "execution_count": 10,
   "metadata": {},
   "outputs": [
    {
     "data": {
      "text/plain": [
       "[[0.0020399999999999997,\n",
       "  0.001999,\n",
       "  0.002042,\n",
       "  0.002307,\n",
       "  0.0020800000000000003,\n",
       "  0.002153,\n",
       "  0.002182],\n",
       " [0.001999,\n",
       "  0.002042,\n",
       "  0.002307,\n",
       "  0.0020800000000000003,\n",
       "  0.002153,\n",
       "  0.002182,\n",
       "  0.0021379999999999997],\n",
       " [0.002042,\n",
       "  0.002307,\n",
       "  0.0020800000000000003,\n",
       "  0.002153,\n",
       "  0.002182,\n",
       "  0.0021379999999999997,\n",
       "  0.0021379999999999997],\n",
       " [0.002307,\n",
       "  0.0020800000000000003,\n",
       "  0.002153,\n",
       "  0.002182,\n",
       "  0.0021379999999999997,\n",
       "  0.0021379999999999997,\n",
       "  0.002208],\n",
       " [0.0020800000000000003,\n",
       "  0.002153,\n",
       "  0.002182,\n",
       "  0.0021379999999999997,\n",
       "  0.0021379999999999997,\n",
       "  0.002208,\n",
       "  0.002179]]"
      ]
     },
     "execution_count": 10,
     "metadata": {},
     "output_type": "execute_result"
    }
   ],
   "source": [
    "y[:5]"
   ]
  },
  {
   "cell_type": "code",
   "execution_count": 11,
   "metadata": {
    "scrolled": true
   },
   "outputs": [
    {
     "data": {
      "text/plain": [
       "(539, 539)"
      ]
     },
     "execution_count": 11,
     "metadata": {},
     "output_type": "execute_result"
    }
   ],
   "source": [
    "len(x),len(y)"
   ]
  },
  {
   "cell_type": "code",
   "execution_count": 12,
   "metadata": {},
   "outputs": [],
   "source": [
    "x = np.array(x)\n",
    "y = np.array(y)"
   ]
  },
  {
   "cell_type": "code",
   "execution_count": 13,
   "metadata": {
    "scrolled": true
   },
   "outputs": [
    {
     "data": {
      "text/plain": [
       "(539, 7)"
      ]
     },
     "execution_count": 13,
     "metadata": {},
     "output_type": "execute_result"
    }
   ],
   "source": [
    "y.shape"
   ]
  },
  {
   "cell_type": "code",
   "execution_count": 14,
   "metadata": {},
   "outputs": [
    {
     "data": {
      "text/plain": [
       "546"
      ]
     },
     "execution_count": 14,
     "metadata": {},
     "output_type": "execute_result"
    }
   ],
   "source": [
    "len(df)"
   ]
  },
  {
   "cell_type": "code",
   "execution_count": 15,
   "metadata": {},
   "outputs": [],
   "source": [
    "diff_order = 1"
   ]
  },
  {
   "cell_type": "code",
   "execution_count": 16,
   "metadata": {},
   "outputs": [],
   "source": [
    "# x = x[diff_order:]\n",
    "# y = np.diff(y, n = diff_order)"
   ]
  },
  {
   "cell_type": "code",
   "execution_count": 17,
   "metadata": {},
   "outputs": [],
   "source": [
    "# len(x), len(y)"
   ]
  },
  {
   "cell_type": "code",
   "execution_count": 18,
   "metadata": {},
   "outputs": [],
   "source": [
    "train_x, test_x, train_y, test_y = train_test_split(x, y, test_size=0.1, random_state=42)"
   ]
  },
  {
   "cell_type": "code",
   "execution_count": 19,
   "metadata": {},
   "outputs": [],
   "source": [
    "from sklearn.multioutput import MultiOutputRegressor\n",
    "from sklearn.linear_model import Ridge, Lasso"
   ]
  },
  {
   "cell_type": "code",
   "execution_count": 20,
   "metadata": {},
   "outputs": [
    {
     "name": "stdout",
     "output_type": "stream",
     "text": [
      "0.9057068258120905\n"
     ]
    }
   ],
   "source": [
    "clf = MultiOutputRegressor(Ridge(random_state=123)).fit(train_x, train_y)\n",
    "print(clf.score(test_x, test_y))"
   ]
  },
  {
   "cell_type": "code",
   "execution_count": 21,
   "metadata": {},
   "outputs": [],
   "source": [
    "from random import randint"
   ]
  },
  {
   "cell_type": "code",
   "execution_count": 22,
   "metadata": {
    "scrolled": false
   },
   "outputs": [
    {
     "name": "stdout",
     "output_type": "stream",
     "text": [
      "date         2020-01-29\n",
      "positive       0.351797\n",
      "negative      0.0835587\n",
      "neutral        0.564644\n",
      "sentiment      0.475057\n",
      "price          0.002417\n",
      "Name: 28, dtype: object\n"
     ]
    },
    {
     "data": {
      "text/plain": [
       "Text(0.5, 0, 'Time')"
      ]
     },
     "execution_count": 22,
     "metadata": {},
     "output_type": "execute_result"
    },
    {
     "data": {
      "image/png": "[encoded data removed]",
      "text/plain": [
       "<Figure size 432x288 with 1 Axes>"
      ]
     },
     "metadata": {
      "needs_background": "light"
     },
     "output_type": "display_data"
    }
   ],
   "source": [
    "num = randint(0, len(x)-1)\n",
    "prediction = clf.predict(x[num].reshape(1, -1))\n",
    "y_pred, y_true, x_row = prediction[0], y[num], list(df[\"date\"][num:num+days])\n",
    "print(df.iloc[num])\n",
    "# print(y_pred, y_true, x_row)\n",
    "fig,axes=plt.subplots(1,1)\n",
    "axes.scatter(x_row, y_true,color='g')\n",
    "axes.plot(x_row,y_pred,color='r')\n",
    "axes.xaxis.set_major_locator(MaxNLocator(5)) \n",
    "axes.yaxis.set_major_locator(MaxNLocator(5)) \n",
    "plt.ylabel(f\"Average Price for {coin}, with delta of {days}\")\n",
    "plt.xlabel(\"Time\")\n"
   ]
  },
  {
   "cell_type": "code",
   "execution_count": 23,
   "metadata": {},
   "outputs": [],
   "source": [
    "original_y = [sum(i)/len(i) for i in y]"
   ]
  },
  {
   "cell_type": "code",
   "execution_count": 24,
   "metadata": {},
   "outputs": [],
   "source": [
    "prediction = clf.predict(x)"
   ]
  },
  {
   "cell_type": "code",
   "execution_count": 25,
   "metadata": {},
   "outputs": [],
   "source": [
    "predicted_y = [sum(i)/len(i) for i in prediction]"
   ]
  },
  {
   "cell_type": "code",
   "execution_count": 26,
   "metadata": {},
   "outputs": [
    {
     "data": {
      "image/png": "[encoded data removed]",
      "text/plain": [
       "<Figure size 432x288 with 1 Axes>"
      ]
     },
     "metadata": {
      "needs_background": "light"
     },
     "output_type": "display_data"
    }
   ],
   "source": [
    "# print(len(x),len(regr.predict(x)))\n",
    "fig,axes=plt.subplots(1,1)\n",
    "axes.scatter(df[\"date\"][:-days], original_y,color='g')\n",
    "axes.plot(df[\"date\"][:-days],predicted_y,color='r')\n",
    "axes.xaxis.set_major_locator(MaxNLocator(5)) \n",
    "axes.yaxis.set_major_locator(MaxNLocator(5)) \n",
    "plt.ylabel(f\"Average Price for {coin}, with delta of {days}\")\n",
    "plt.xlabel(\"Time\")\n",
    "\n",
    "plt.show()"
   ]
  },
  {
   "cell_type": "code",
   "execution_count": 27,
   "metadata": {},
   "outputs": [],
   "source": [
    "x = [(i,j,k) for i,j,k in zip(df[\"positive\"], df[\"neutral\"], df[\"negative\"])]\n",
    "x = np.array(x)\n",
    "y = np.array(df[\"price\"])"
   ]
  },
  {
   "cell_type": "code",
   "execution_count": 28,
   "metadata": {},
   "outputs": [],
   "source": [
    "new_x, new_y, dates = [], [], []\n",
    "days = 30\n",
    "for i in range(0,len(x)-days):\n",
    "    new_x.append(sum(x[i:i+days])/days)\n",
    "    new_y.append(sum(y[i:i+days])/days)\n",
    "    dates.append(df[\"date\"].iloc[i])"
   ]
  },
  {
   "cell_type": "code",
   "execution_count": 29,
   "metadata": {},
   "outputs": [],
   "source": [
    "x, y = new_x, new_y"
   ]
  },
  {
   "cell_type": "code",
   "execution_count": 30,
   "metadata": {},
   "outputs": [],
   "source": [
    "x = x[diff_order:]\n",
    "y = np.diff(y, n = diff_order)"
   ]
  },
  {
   "cell_type": "code",
   "execution_count": 31,
   "metadata": {},
   "outputs": [],
   "source": [
    "from sklearn.multioutput import MultiOutputRegressor\n",
    "from sklearn.linear_model import Ridge"
   ]
  },
  {
   "cell_type": "code",
   "execution_count": 32,
   "metadata": {},
   "outputs": [
    {
     "data": {
      "text/plain": [
       "LinearRegression()"
      ]
     },
     "execution_count": 32,
     "metadata": {},
     "output_type": "execute_result"
    }
   ],
   "source": [
    "regr = LinearRegression()\n",
    "regr.fit(x, y)\n",
    "# clf = MultiOutputRegressor(Ridge(random_state=123)).fit(x, y)\n",
    "# print(clf.score(x, y))"
   ]
  },
  {
   "cell_type": "code",
   "execution_count": 33,
   "metadata": {},
   "outputs": [
    {
     "data": {
      "image/png": "[encoded data removed]",
      "text/plain": [
       "<Figure size 432x288 with 1 Axes>"
      ]
     },
     "metadata": {
      "needs_background": "light"
     },
     "output_type": "display_data"
    }
   ],
   "source": [
    "# print(len(x),len(regr.predict(x)))\n",
    "fig,axes=plt.subplots(1,1)\n",
    "axes.scatter(dates[diff_order:], y,color='g')\n",
    "axes.plot(dates[diff_order:],regr.predict(x),color='r')\n",
    "axes.xaxis.set_major_locator(MaxNLocator(5)) \n",
    "axes.yaxis.set_major_locator(MaxNLocator(5)) \n",
    "plt.ylabel(f\"Monthly Change in Average Price for {coin}\")\n",
    "plt.xlabel(\"Time\")\n",
    "\n",
    "plt.show()"
   ]
  },
  {
   "cell_type": "code",
   "execution_count": null,
   "metadata": {},
   "outputs": [],
   "source": []
  },
  {
   "cell_type": "code",
   "execution_count": null,
   "metadata": {},
   "outputs": [],
   "source": []
  }
 ],
 "metadata": {
  "kernelspec": {
   "display_name": "Python 3",
   "language": "python",
   "name": "python3"
  },
  "language_info": {
   "codemirror_mode": {
    "name": "ipython",
    "version": 3
   },
   "file_extension": ".py",
   "mimetype": "text/x-python",
   "name": "python",
   "nbconvert_exporter": "python",
   "pygments_lexer": "ipython3",
   "version": "3.6.9"
  }
 },
 "nbformat": 4,
 "nbformat_minor": 5
}

{
 "cells": [
  {
   "cell_type": "code",
   "execution_count": null,
   "id": "5c657369",
   "metadata": {},
   "outputs": [],
   "source": [
    "from transformers import AutoModelForSequenceClassification\n",
    "from transformers import TFAutoModelForSequenceClassification\n",
    "from transformers import AutoTokenizer\n",
    "import pandas as pd\n",
    "import numpy as np\n",
    "from scipy.special import softmax\n",
    "import csv\n",
    "import urllib.request\n",
    "\n"
   ]
  },
  {
   "cell_type": "code",
   "execution_count": null,
   "id": "fcc0e9c1",
   "metadata": {},
   "outputs": [],
   "source": [
    "task = \"sentiment\"\n",
    "MODEL = f\"cardiffnlp/twitter-roberta-base-{task}\"\n",
    "\n",
    "tokenizer = AutoTokenizer.from_pretrained(MODEL)"
   ]
  },
  {
   "cell_type": "code",
   "execution_count": null,
   "id": "6718eeb2",
   "metadata": {},
   "outputs": [],
   "source": [
    "# download label mapping\n",
    "labels = []\n",
    "mapping_link = f\"https://raw.githubusercontent.com/cardiffnlp/tweeteval/main/datasets/{task}/mapping.txt\"\n",
    "with urllib.request.urlopen(mapping_link) as f:\n",
    "    html = f.read().decode(\"utf-8\").split(\"\\n\")\n",
    "    csvreader = csv.reader(html, delimiter=\"\\t\")\n",
    "labels = [row[1] for row in csvreader if len(row) > 1]\n",
    "\n",
    "# PT\n",
    "model = AutoModelForSequenceClassification.from_pretrained(MODEL)\n",
    "model.save_pretrained(MODEL)\n"
   ]
  },
  {
   "cell_type": "code",
   "execution_count": null,
   "id": "e4669872",
   "metadata": {},
   "outputs": [],
   "source": [
    "def get_sentiment(text):\n",
    "    encoded_input = tokenizer(text, return_tensors=\"pt\")\n",
    "    output = model(**encoded_input)\n",
    "    scores = output[0][0].detach().numpy()\n",
    "    scores = softmax(scores)\n",
    "\n",
    "    ranking = np.argsort(scores)\n",
    "    ranking = ranking[::-1]\n",
    "    return list(scores)\n"
   ]
  },
  {
   "cell_type": "code",
   "execution_count": null,
   "id": "d34de5b6",
   "metadata": {},
   "outputs": [],
   "source": [
    "df = pd.read_csv(\"dogecoin_clean.csv\")\n",
    "all_sens = []\n",
    "error = 0\n",
    "for i, row in df.iterrows():\n",
    "    if i % 1000 == 0:\n",
    "        print(i)\n",
    "    try:\n",
    "        x = get_sentiment(row[\"tweet\"])\n",
    "        sen = {}\n",
    "        sen[\"tweet\"] = row[\"tweet\"]\n",
    "        sen[\"data\"] = row[\"date\"]\n",
    "        sen[\"negative\"] = x[0]\n",
    "        sen[\"neutral\"] = x[1]\n",
    "        sen[\"positive\"] = x[2]\n",
    "    except:\n",
    "        error += 1\n",
    "        if error % 10 == 0:\n",
    "            print(\"error\", error)\n",
    "        pass\n",
    "    # print(row['tweet'], x[2])\n",
    "    all_sens.append(sen)"
   ]
  },
  {
   "cell_type": "code",
   "execution_count": null,
   "id": "48f659a0",
   "metadata": {},
   "outputs": [],
   "source": [
    "new_df = pd.DataFrame(all_sens)\n",
    "new_df.to_csv(\"dogecoin_sentiments.csv\", index=False)"
   ]
  }
 ],
 "metadata": {
  "kernelspec": {
   "display_name": "Python 3 (ipykernel)",
   "language": "python",
   "name": "python3"
  },
  "language_info": {
   "codemirror_mode": {
    "name": "ipython",
    "version": 3
   },
   "file_extension": ".py",
   "mimetype": "text/x-python",
   "name": "python",
   "nbconvert_exporter": "python",
   "pygments_lexer": "ipython3",
   "version": "3.9.5"
  }
 },
 "nbformat": 4,
 "nbformat_minor": 5
}
